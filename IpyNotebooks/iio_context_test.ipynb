{
 "cells": [
  {
   "cell_type": "code",
   "execution_count": 39,
   "metadata": {},
   "outputs": [],
   "source": [
    "# checking connection via iio library and looking at internal devices\n",
    "# an iio context has internal attributes as well as 1 or more devices, then\n",
    "# each iio device has internal attributes as well as 1 or more channels, and\n",
    "# channels are for streaming data, input or output with attributes for control "
   ]
  },
  {
   "cell_type": "code",
   "execution_count": 40,
   "metadata": {},
   "outputs": [],
   "source": [
    "import iio\n",
    "pluto = iio.Context('ip:pluto.local')            # connect to pluto hardware"
   ]
  },
  {
   "cell_type": "code",
   "execution_count": 41,
   "metadata": {},
   "outputs": [
    {
     "name": "stdout",
     "output_type": "stream",
     "text": [
      "adm1177                 2\n",
      "ad9361-phy              9\n",
      "xadc                    10\n",
      "cf-ad9361-dds-core-lpc  6\n",
      "cf-ad9361-lpc           2\n"
     ]
    }
   ],
   "source": [
    "# there are 5 devices in the pluto iio context each with various channels\n",
    "for dev in pluto.devices:\n",
    "    print('{:24s}{:d}'.format(dev.name, len(dev.channels)))\n",
    "    \n",
    "# there are 3 relevant RF devices:\n",
    "# ad9361-phy       where the internals control the analogue RF params of rx and rx \n",
    "#                  e.g. filter BWs, gain, agc, LO \n",
    "# cf-ad9361-lpc    where the 2 channels are the IQ data from the ADC\n",
    "# cf-ad9361-dds... where 2 channels are the DAC IQ and the other 4 are IQ, F1/F2 of the "
   ]
  },
  {
   "cell_type": "code",
   "execution_count": 42,
   "metadata": {},
   "outputs": [],
   "source": [
    "# picking these out for futher examination\n",
    "phy = pluto.find_device('ad9361-phy')\n",
    "rx = pluto.find_device('cf-ad9361-lpc')\n",
    "tx = pluto.find_device('cf-ad9361-dds-core-lpc')"
   ]
  },
  {
   "cell_type": "code",
   "execution_count": 43,
   "metadata": {},
   "outputs": [],
   "source": [
    "# in the phy, these are the most interesting\n",
    "rx_control = phy.find_channel('voltage0', is_output=False)\n",
    "tx_control = phy.find_channel('voltage0', is_output=True)"
   ]
  },
  {
   "cell_type": "code",
   "execution_count": 44,
   "metadata": {},
   "outputs": [
    {
     "name": "stdout",
     "output_type": "stream",
     "text": [
      "rx control\n",
      " dict_keys(['bb_dc_offset_tracking_en', 'filter_fir_en', 'gain_control_mode', 'gain_control_mode_available', 'hardwaregain', 'hardwaregain_available', 'quadrature_tracking_en', 'rf_bandwidth', 'rf_bandwidth_available', 'rf_dc_offset_tracking_en', 'rf_port_select', 'rf_port_select_available', 'rssi', 'sampling_frequency', 'sampling_frequency_available'])\n",
      "tx control\n",
      " dict_keys(['filter_fir_en', 'hardwaregain', 'hardwaregain_available', 'rf_bandwidth', 'rf_bandwidth_available', 'rf_port_select', 'rf_port_select_available', 'rssi', 'sampling_frequency', 'sampling_frequency_available'])\n"
     ]
    }
   ],
   "source": [
    "# the attrs dict shows what can be controlled\n",
    "print('rx control\\n', rx_control.attrs.keys())\n",
    "print('tx control\\n', tx_control.attrs.keys())"
   ]
  },
  {
   "cell_type": "code",
   "execution_count": 45,
   "metadata": {},
   "outputs": [
    {
     "name": "stdout",
     "output_type": "stream",
     "text": [
      "rx_adc\n",
      " dict_keys(['calibbias', 'calibphase', 'calibscale', 'samples_pps', 'sampling_frequency', 'sampling_frequency_available'])\n"
     ]
    }
   ],
   "source": [
    "# for the rx, the channels are IQ data paths with attrs for dc offset (bias) and phase calibration\n",
    "print('rx_adc\\n', rx.channels[0].attrs.keys())"
   ]
  },
  {
   "cell_type": "code",
   "execution_count": 46,
   "metadata": {},
   "outputs": [
    {
     "name": "stdout",
     "output_type": "stream",
     "text": [
      "tx_dac\n",
      " dict_keys(['calibphase', 'calibscale', 'sampling_frequency', 'sampling_frequency_available'])\n"
     ]
    }
   ],
   "source": [
    "# for the tx, 2 of the channels are IQ data paths for the dac\n",
    "tx_dac = tx.find_channel('voltage0', True)\n",
    "print('tx_dac\\n', tx_dac.attrs.keys())\n",
    "# the Q channel is 'voltage1'"
   ]
  },
  {
   "cell_type": "code",
   "execution_count": 47,
   "metadata": {},
   "outputs": [
    {
     "name": "stdout",
     "output_type": "stream",
     "text": [
      "dds_F1\n",
      " dict_keys(['frequency', 'phase', 'raw', 'sampling_frequency', 'scale'])\n",
      "dds_F1\n",
      " dict_keys(['frequency', 'phase', 'raw', 'sampling_frequency', 'scale'])\n"
     ]
    }
   ],
   "source": [
    "# the others control internally generated IQ data for F1 and/or F2 DDS signals \n",
    "tx_f1 = tx.find_channel('altvoltage0', True)\n",
    "print('dds_F1\\n', tx_f1.attrs.keys())\n",
    "tx_f2 = tx.find_channel('altvoltage1', True)\n",
    "print('dds_F1\\n', tx_f2.attrs.keys())\n",
    "# the corresponding Q channels are altvoltage2 and altvoltage3"
   ]
  },
  {
   "cell_type": "code",
   "execution_count": null,
   "metadata": {},
   "outputs": [],
   "source": []
  }
 ],
 "metadata": {
  "kernelspec": {
   "display_name": "Python 3",
   "language": "python",
   "name": "python3"
  },
  "language_info": {
   "codemirror_mode": {
    "name": "ipython",
    "version": 3
   },
   "file_extension": ".py",
   "mimetype": "text/x-python",
   "name": "python",
   "nbconvert_exporter": "python",
   "pygments_lexer": "ipython3",
   "version": "3.7.3"
  }
 },
 "nbformat": 4,
 "nbformat_minor": 2
}
